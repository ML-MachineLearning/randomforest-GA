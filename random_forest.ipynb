{
 "cells": [
  {
   "cell_type": "markdown",
   "metadata": {
    "extensions": {
     "jupyter_dashboards": {
      "version": 1,
      "views": {
       "grid_default": {
        "col": 0,
        "height": 4,
        "hidden": false,
        "row": 0,
        "width": 4
       },
       "report_default": {
        "hidden": false
       }
      }
     }
    }
   },
   "source": [
    "# Set up analysis\n",
    "Defines functions used for analysis."
   ]
  },
  {
   "cell_type": "code",
   "execution_count": 1,
   "metadata": {
    "extensions": {
     "jupyter_dashboards": {
      "version": 1,
      "views": {
       "grid_default": {
        "hidden": true
       },
       "report_default": {
        "hidden": true
       }
      }
     }
    }
   },
   "outputs": [],
   "source": [
    "# Load modules\n",
    "import datacube\n",
    "import fiona\n",
    "import glob\n",
    "import itertools\n",
    "import os\n",
    "import rasterio\n",
    "import warnings\n",
    "import pandas as pd\n",
    "import rasterio.features\n",
    "import xarray as xr\n",
    "import numpy as np\n",
    "from collections import OrderedDict\n",
    "from datacube.helpers import ga_pq_fuser\n",
    "from datacube.storage import masking\n",
    "from datacube.storage.masking import mask_invalid_data\n",
    "from datacube.utils import geometry\n",
    "from datacube.utils.geometry import CRS\n",
    "from matplotlib import pyplot as plt\n",
    "from osgeo import gdal\n",
    "from os.path import splitext\n",
    "from shapely.geometry import Point\n",
    "from shapely.geometry import shape\n",
    "from sklearn import metrics\n",
    "from sklearn.ensemble import RandomForestClassifier\n",
    "from sklearn.preprocessing import scale\n",
    "from sklearn.tree import export_graphviz\n",
    "from sklearn.tree import _tree \n",
    "\n",
    "# For nicer notebook plotting, hide warnings (comment out for real analysis)\n",
    "warnings.filterwarnings('ignore') \n",
    "\n",
    "# Set up datacube instance\n",
    "dc = datacube.Datacube(app = 'Random forest classification')\n",
    "\n",
    "\n",
    "def load_nbart(sensor, query):\n",
    "    \n",
    "    '''\n",
    "    Loads nbart data for a sensor, mask by pq and filter terrain -999s.\n",
    "    Modified from original function written by B Dunn (2017).\n",
    "    \n",
    "    :attr sensor: Landsat sensor to import (valid options: 'ls5', 'ls7', 'ls8')\n",
    "    :attr query: complete datacube query used to import data\n",
    "    \n",
    "    :returns: xarray dataset matching query\n",
    "    '''  \n",
    "    \n",
    "    product_name = '{}_{}_albers'.format(sensor, 'nbart')\n",
    "    print('Loading {}'.format(product_name))\n",
    "    ds = dc.load(product = product_name,\n",
    "                 group_by = 'solar_day', \n",
    "                 **query)\n",
    "    \n",
    "    if ds:       \n",
    "   \n",
    "        print('Loaded {}'.format(product_name))\n",
    "        \n",
    "        # Extract PQ data for masking\n",
    "        mask_product = '{}_{}_albers'.format(sensor, 'pq')\n",
    "        sensor_pq = dc.load(product = mask_product, \n",
    "                            fuse_func = ga_pq_fuser,\n",
    "                            group_by = 'solar_day', \n",
    "                            **query)\n",
    "        \n",
    "        if sensor_pq:\n",
    "            \n",
    "            print('Making mask {}'.format(mask_product))\n",
    "            cloud_free = masking.make_mask(sensor_pq.pixelquality,\n",
    "                                           cloud_acca = 'no_cloud',\n",
    "                                           cloud_shadow_acca = 'no_cloud_shadow',                           \n",
    "                                           cloud_shadow_fmask = 'no_cloud_shadow',\n",
    "                                           cloud_fmask = 'no_cloud',\n",
    "                                           blue_saturated = False,\n",
    "                                           green_saturated = False,\n",
    "                                           red_saturated = False,\n",
    "                                           nir_saturated = False,\n",
    "                                           swir1_saturated = False,\n",
    "                                           swir2_saturated = False,\n",
    "                                           contiguous = True)\n",
    "            \n",
    "            # Filter to remove clouds and -999 terrain issues\n",
    "            ds = ds.where(cloud_free)\n",
    "            ds = ds.where(ds != -999.0)\n",
    "            \n",
    "            # Add projection attributes\n",
    "            ds.attrs['crs'] = ds.crs\n",
    "            ds.attrs['affine'] = ds.affine    \n",
    "            ds.attrs['geo_transform'] = ds.geobox.transform.to_gdal()\n",
    "            ds.attrs['proj'] = ds.geobox.crs.wkt\n",
    "            print('Masked {} with {} and filtered ' \\\n",
    "                  'terrain'.format(product_name, mask_product))\n",
    "            \n",
    "        else: \n",
    "            \n",
    "            print('Did not mask {} with {}'.format(product_name, mask_product))\n",
    "            \n",
    "    else:\n",
    "        \n",
    "        print ('Did not load {}'.format(product_name)) \n",
    "\n",
    "    if len(ds) > 0:\n",
    "        \n",
    "        return ds\n",
    "    \n",
    "    else:\n",
    "        \n",
    "        return None\n",
    "\n",
    "\n",
    "def rasterize_vector(input_data, cols, rows, geo_transform,\n",
    "                     projection, field):\n",
    "    \n",
    "    \"\"\"\n",
    "    Rasterize a vector file and return numpy array\n",
    "    \n",
    "    :attr input_data: input shapefile path or preloaded GDAL/OGR layer\n",
    "    :attr cols: width of output array in columns\n",
    "    :attr rows: height of output array in rows\n",
    "    :attr geo_transform: geotransform for rasterization\n",
    "    :attr projection: projection for rasterization\n",
    "    :attr field: shapefile field to take values from\n",
    "    \n",
    "    :returns: a 'row x col' array containg values from vector\n",
    "    \"\"\"\n",
    "    \n",
    "    # If input data is a string, import as shapefile layer\n",
    "    if isinstance(input_data, str):    \n",
    "    \n",
    "        # Open vector with gdal\n",
    "        data_source = gdal.OpenEx(vector_data_path, gdal.OF_VECTOR)\n",
    "        input_data = data_source.GetLayer(0)\n",
    "    \n",
    "    # Set up output raster\n",
    "    driver = gdal.GetDriverByName('MEM')  # In memory dataset\n",
    "    target_ds = driver.Create('', cols, rows, 1, gdal.GDT_UInt16)\n",
    "    target_ds.SetGeoTransform(geo_transform)\n",
    "    target_ds.SetProjection(projection)\n",
    "    \n",
    "    # Rasterize shapefile and extract array\n",
    "    gdal.RasterizeLayer(target_ds, [1], input_data, options=[\"ATTRIBUTE=\" + field])\n",
    "    band = target_ds.GetRasterBand(1)\n",
    "    out_array = band.ReadAsArray()\n",
    "    target_ds = None\n",
    "    \n",
    "    return out_array\n",
    "\n",
    "\n",
    "def write_geotiff(fname, data, geo_transform, projection, nodata_val):\n",
    "    \n",
    "    \"\"\"\n",
    "    Create a single band GeoTIFF file with data from array.\n",
    "    \n",
    "    :attr fname: output file path\n",
    "    :attr data: input array\n",
    "    :attr geo_transform: geotransform for output raster\n",
    "    :attr projection: projection for output raster\n",
    "    :attr nodata_val: value to convert to nodata in output raster\n",
    "    \"\"\"\n",
    "    \n",
    "    # Set up driver\n",
    "    driver = gdal.GetDriverByName('GTiff')\n",
    "    \n",
    "    # Create raster of given size and projection\n",
    "    rows, cols = data.shape\n",
    "    dataset = driver.Create(fname, cols, rows, 1, gdal.GDT_Byte)\n",
    "    dataset.SetGeoTransform(geo_transform)\n",
    "    dataset.SetProjection(projection)\n",
    "    \n",
    "    # Write data to array and set nodata values\n",
    "    band = dataset.GetRasterBand(1)\n",
    "    band.WriteArray(data)\n",
    "    band.SetNoDataValue(nodata_val)\n",
    "    \n",
    "    # Close file\n",
    "    dataset = None     \n",
    "    \n",
    "\n",
    "def tasseled_cap(sensor_data, sensor, tc_bands = ['greenness', 'brightness', 'wetness'], \n",
    "                 drop = True):\n",
    "    \n",
    "    \"\"\"\n",
    "    Computes tasseled cap wetness, greenness and brightness bands from a six\n",
    "    band xarray dataset, and returns a new xarray dataset with old bands \n",
    "    optionally dropped\n",
    "    \n",
    "    :attr sensor_data: input xarray dataset with six Landsat bands\n",
    "    :attr tc_bands: list of tasseled cap bands to compute \n",
    "    (valid options: 'wetness', 'greenness','brightness'\n",
    "    :attr sensor: Landsat sensor used for coefficient values \n",
    "    (valid options: 'ls5', 'ls7', 'ls8')\n",
    "    :attr drop: if 'drop = False', return all original Landsat bands \n",
    "    \n",
    "    :returns: xarray dataset with newly computed tasseled cap bands\n",
    "    \"\"\"\n",
    "    \n",
    "    # Copy input dataset\n",
    "    output_array = sensor_data.copy(deep = True)\n",
    " \n",
    "    # Coefficients for each tasseled cap band\n",
    "    wetness_coeff = {'ls5':{'blue':0.0315, 'green':0.2021, 'red':0.3102, \n",
    "                            'nir':0.1594, 'swir1':-0.6806, 'swir2':-0.6109},\n",
    "                     'ls7':{'blue':0.0315, 'green':0.2021, 'red':0.3102, \n",
    "                            'nir':0.1594, 'swir1':-0.6806, 'swir2':-0.6109},\n",
    "                     'ls8':{'blue':0.0315, 'green':0.2021, 'red':0.3102, \n",
    "                            'nir':0.1594, 'swir1':-0.6806, 'swir2':-0.6109}}\n",
    "    \n",
    "    greenness_coeff = {'ls5':{'blue':-0.1603, 'green':-0.2819, 'red':-0.4934, \n",
    "                              'nir':0.7940, 'swir1':-0.0002, 'swir2':-0.1446},\n",
    "                       'ls7':{'blue':-0.1603, 'green':-0.2819, 'red':-0.4934, \n",
    "                              'nir':0.7940, 'swir1':-0.0002, 'swir2':-0.1446},\n",
    "                       'ls8':{'blue':-0.1603, 'green':-0.2819, 'red':-0.4934, \n",
    "                              'nir':0.7940, 'swir1':-0.0002, 'swir2':-0.1446}}\n",
    "    \n",
    "    brightness_coeff = {'ls5':{'blue':0.2043, 'green':0.4158, 'red':0.5524, \n",
    "                               'nir':0.5741, 'swir1':0.3124, 'swir2':0.2303},\n",
    "                        'ls7':{'blue':0.2043, 'green':0.4158, 'red':0.5524, \n",
    "                               'nir':0.5741, 'swir1':0.3124, 'swir2':0.2303},\n",
    "                        'ls8':{'blue':0.2043, 'green':0.4158, 'red':0.5524, \n",
    "                               'nir':0.5741, 'swir1':0.3124, 'swir2':0.2303}}\n",
    "    \n",
    "    # Dict to use correct coefficients for each tasseled cap band\n",
    "    analysis_coefficient = {'wetness': wetness_coeff, \n",
    "                            'greenness': greenness_coeff,\n",
    "                            'brightness': brightness_coeff}\n",
    "    \n",
    "    # For each band, compute tasseled cap band and add to output dataset\n",
    "    for tc_band in tc_bands:\n",
    "\n",
    "        # Create xarray of coefficient values used to multiply each band of input\n",
    "        coeff = xr.Dataset(analysis_coefficient[tc_band][sensor])    \n",
    "        sensor_coeff = sensor_data * coeff\n",
    "\n",
    "        # Sum all bands\n",
    "        output_array[tc_band] = sensor_coeff.blue + sensor_coeff.green + \\\n",
    "                                sensor_coeff.red + sensor_coeff.nir + \\\n",
    "                                sensor_coeff.swir1 + sensor_coeff.swir2\n",
    "    \n",
    "    # If drop = True, remove original bands\n",
    "    if drop:\n",
    "        \n",
    "        bands_to_drop = list(sensor_data.data_vars)        \n",
    "        output_array = output_array.drop(bands_to_drop)        \n",
    "\n",
    "    return(output_array)\n",
    "\n",
    "\n",
    "def point_in_poly(lon, lat, field, shapefile):\n",
    "    \n",
    "    \"\"\"\n",
    "    Extract data from polygon that contains point\n",
    "    \n",
    "    :attr lon: x coordinate of point\n",
    "    :attr lat: y coordinate of point\n",
    "    :attr field: field of polygon shapefile to extract for matching points\n",
    "    :attr shapefile: polygon shapefile to import\n",
    "    \n",
    "    :returns: if point falls within polygon, return field from polygon\n",
    "    \"\"\"\n",
    "\n",
    "    # Convert coordinates to shapely point\n",
    "    mypoint = Point(lon, lat)   \n",
    "\n",
    "    # Extract polygon info\n",
    "    with fiona.open(shapefile) as shp:\n",
    "\n",
    "        # For each polygon, identify if point falls within polygon\n",
    "        poly_idx = [poly['properties'][field] for i, poly in enumerate(shp)\n",
    "                    if mypoint.within(shape(poly['geometry']))]\n",
    "\n",
    "    # If point is within polygon\n",
    "    if poly_idx:\n",
    "        \n",
    "        # Take first polygon to avoid multiple matches        \n",
    "        return(poly_idx[0])\n",
    "\n",
    "    # If point not found in any polygon, return none\n",
    "    else: \n",
    "        \n",
    "        return None\n",
    "\n",
    "\n",
    "def layer_extent(layer):\n",
    "    \n",
    "    \"\"\"\n",
    "    Computes min and max extents for GDAL layer features. Compared to\n",
    "    built-in \".GetExtent\" that always returns unfiltered extents, this \n",
    "    allows you to compute extents of features within filtered layers \n",
    "    (e.g. layers filtered with 'SetAttributeFilter')\n",
    "    \"\"\"\n",
    "    \n",
    "    # Extract tuples of x, y, z coordinates for each point feature\n",
    "    point_coords = [feature.geometry().GetPoint() for feature in layer]\n",
    "    \n",
    "    # Compute mins and maxes across points for each tuple element\n",
    "    max_x, max_y, max_z = map(min, zip(*point_coords))\n",
    "    min_x, min_y, min_z = map(max, zip(*point_coords))    \n",
    "    \n",
    "    return  min_x, max_x, min_y, max_y\n",
    "\n",
    "\n",
    "def randomforest_train(train_shps, train_field, data_func, data_func_params = {},\n",
    "                       classifier_params = {}, train_reclass = None):\n",
    "    \n",
    "    '''\n",
    "    Extracts training data from xarray dataset for multiple training shapefiles.\n",
    "    Loops through each each training shapefile, calling dc.load on extent of file.\n",
    "    \n",
    "    :attr train_shps: list of training shapefile paths to import. Each file \n",
    "    should cover a small enough spatial area so as to not slow dc.load function \n",
    "    excessively (e.g. 100 x 100km max)\n",
    "    :attr train_field: shapefile field containing classification class\n",
    "    :attr data_func: function to import xarray data for each shapefile. Should return \n",
    "    an xarray dataset with 'geo_transform' and 'proj' attributes\n",
    "    :attr data_func_params: optional dict of dc.load query inputs. Useful for defining \n",
    "    time query for temporal datasets (spatial queries are set automatically from shapefiles)\n",
    "    :attr classifier_params: optional dict of parameters for training random forest\n",
    "    :attr train_reclass: optional dict of from:to pairs to reclassify classification classes \n",
    "    in shapefile field. Useful for simplifying multiple classes into a simpler set of classes\n",
    "    \n",
    "    :returns: trained classifier\n",
    "    :returns: array of training labels\n",
    "    :returns: array of training data\n",
    "    '''\n",
    "\n",
    "    # Output training label and pixel arrays\n",
    "    training_labels_list = list()\n",
    "    training_samples_list = list()\n",
    "\n",
    "    # For each shapefile, extract datacube data using extent of points\n",
    "    # and add resulting spectral data and labels to list of arrays\n",
    "    for train_shp in train_shps:\n",
    "        \n",
    "        print(\"Importing training data from {}:\".format(train_shp))\n",
    "        \n",
    "        try:\n",
    "\n",
    "            # Open vector of training points with gdal\n",
    "            data_source = gdal.OpenEx(train_shp, gdal.OF_VECTOR)\n",
    "            layer = data_source.GetLayer(0)      \n",
    "\n",
    "            # Compute extents and generate spatial query\n",
    "            xmin, xmax, ymin, ymax = layer_extent(layer) \n",
    "            query_train = {'x': (xmin + 500, xmax - 500),\n",
    "                           'y': (ymin + 500, ymax - 500),\n",
    "                           'crs': 'EPSG:3577',\n",
    "                           **data_func_params}        \n",
    "            print(query_train)\n",
    "\n",
    "            # Import data  as xarray and extract projection/transform data\n",
    "            training_xarray = data_func(query_train)\n",
    "            geo_transform_train = training_xarray.geo_transform\n",
    "            proj_train = training_xarray.proj \n",
    "\n",
    "            # Covert to array and rearrange dimension order\n",
    "            bands_array_train = training_xarray.to_array().values\n",
    "            bands_array_train = np.einsum('bxy->xyb', bands_array_train)\n",
    "            rows_train, cols_train, bands_n_train = bands_array_train.shape\n",
    "\n",
    "            # Import training data shapefiles and convert to matching raster pixels\n",
    "            training_shapefile = train_shp\n",
    "            training_pixels = rasterize_vector(layer, cols_train, rows_train, \n",
    "                                               geo_transform_train, proj_train, \n",
    "                                               field = train_field)  \n",
    "\n",
    "            # Extract matching image sample data for each labelled pixel location\n",
    "            is_train = np.nonzero(training_pixels)\n",
    "            training_labels = training_pixels[is_train]\n",
    "            training_samples = bands_array_train[is_train]\n",
    "\n",
    "            # Remove nans from training samples\n",
    "            training_labels = training_labels[~np.isnan(training_samples).any(axis=1)]\n",
    "            training_samples = training_samples[~np.isnan(training_samples).any(axis=1)]\n",
    "\n",
    "            # Append outputs\n",
    "            training_labels_list.append(training_labels)\n",
    "            training_samples_list.append(training_samples)\n",
    "        \n",
    "        except AttributeError:\n",
    "            \n",
    "            print(\"  Skipping training data from {}; check file path is correct\".format(train_shp))\n",
    "\n",
    "    # Combine polygon training data    \n",
    "    training_labels = np.concatenate(training_labels_list, axis=0)\n",
    "    training_samples = np.concatenate(training_samples_list, axis=0)  \n",
    "    \n",
    "    # Optionally reclass values prior to classification training\n",
    "    if train_reclass:\n",
    "        \n",
    "        # For each class in training labels, convert to new values using train_reclass\n",
    "        training_labels[:] = [train_reclass[label] for label in training_labels]\n",
    "    \n",
    "    # Set up classifier and train on training sample data and labels\n",
    "    # Options for tuning: https://www.analyticsvidhya.com/blog/2015/06/tuning-random-forest-model/\n",
    "    print(\"\\nTraining random forest classifier...\")\n",
    "    classifier = RandomForestClassifier(**classifier_params) \n",
    "    classifier.fit(training_samples, training_labels)\n",
    "    print(\"Model trained on {0} bands and \"\n",
    "          \"{1} training samples\".format(training_samples.shape[1],\n",
    "                                        str(len(training_samples))))\n",
    "    \n",
    "    return classifier, training_labels, training_samples\n",
    "\n",
    "\n",
    "def randomforest_classify(classifier, analysis_data, classification_output, class_prob = False):\n",
    "    \n",
    "    '''\n",
    "    Performs classification of xarray dataset using pre-trained random forest classifier, \n",
    "    and export classified output to a geotiff. Optionally, also export a predicted class \n",
    "    probability raster (i.e. indicating fraction of samples of the predicted class in a leaf)\n",
    "    \n",
    "    :attr classifier: random forest classifier generated using randomforest_train\n",
    "    :attr analysis_data: xarray dataset with 'geo_transform' and 'proj' attributes\n",
    "    and the same number of bands as data used to train classifier\n",
    "    :attr classification_output: file path to output geotiff classification \n",
    "    :attr class_prob: if True, compute predicted class probability and export to \n",
    "    geotiff suffixed with \"_prob.tif\"\n",
    "    '''\n",
    "\n",
    "    geo_transform = analysis_data.geo_transform\n",
    "    proj = analysis_data.proj \n",
    "\n",
    "    # Covert to array and rearrange dimension order\n",
    "    analysis_array = analysis_data.to_array().values\n",
    "    analysis_array = np.einsum('bxy->xyb', analysis_array)\n",
    "    rows, cols, bands_n = analysis_array.shape\n",
    "    print(\"Data to classify:\\n  Rows: {0}\\n  Columns: {1}\\n  Bands: {2}\".format(rows, cols, bands_n))\n",
    "\n",
    "    # Remove nodata and return flattened 'pixel x bands' array\n",
    "    input_nodata = np.isnan(analysis_array).any(axis = 2)\n",
    "    flat_pixels = analysis_array[~input_nodata]\n",
    "\n",
    "    # Run classification\n",
    "    print(\"\\nClassification processing...\")\n",
    "    result = classifier.predict(flat_pixels)\n",
    "\n",
    "    # Restore 2D array by assigning flattened output to empty array\n",
    "    classification = np.zeros((rows, cols))\n",
    "    classification[~input_nodata] = result\n",
    "\n",
    "    # Nodata removed\n",
    "    print(\"  {} nodata cells removed\".format(str(np.sum(classification == 0))))\n",
    "\n",
    "    # Export to file\n",
    "    write_geotiff(classification_output, \n",
    "                  data = classification, \n",
    "                  geo_transform = geo_transform, \n",
    "                  projection = proj,\n",
    "                  nodata_val = 0)\n",
    "    print(\"  Classification exported\")  \n",
    "    \n",
    "    # If requested, export classification probability:\n",
    "    if class_prob:    \n",
    "    \n",
    "        # Compute predicted class probability (fraction of samples of same class in a leaf)\n",
    "        # Use max to return only highest probability (the one that determined output class)\n",
    "        print(\"\\nClass probability processing...\")\n",
    "        result_prob = classifier.predict_proba((flat_pixels))\n",
    "        result_prob = np.max(result_prob, axis = 1) * 100.0 \n",
    "\n",
    "        # Restore 2D array by assigning flattened output to empty array\n",
    "        classification_prob = np.zeros((rows, cols))\n",
    "        classification_prob[~input_nodata] = result_prob\n",
    "\n",
    "        # Export to file\n",
    "        write_geotiff(splitext(classification_output)[0] + \"_prob.tif\", \n",
    "                      data = classification_prob, \n",
    "                      geo_transform = geo_transform, \n",
    "                      projection = proj,\n",
    "                      nodata_val = -999)\n",
    "        print(\"  Class probability exported\")\n",
    "\n",
    "    \n",
    "def randomforest_eval(training_labels, training_samples, classifier_scenario, \n",
    "                      output_path, max_estimators = 100):\n",
    "    \n",
    "    \"\"\"\n",
    "    Takes a set of training labels and training samples, and plots OOB error against\n",
    "    a range of classifier parameters to explore how parameters affect classification.\n",
    "    \n",
    "    :attr training_labels: an (X, ) array of training labels\n",
    "    :attr training_samples: an (X, B) array of training sample data\n",
    "    :attr classifier_scenario: dict of classifier scenarios to plot\n",
    "    :attr output_path: output path for plot of OOB error by scenario\n",
    "    :attr max_estimators: max number of estimators to plot on x-axis (default = 100)\n",
    "    \"\"\"\n",
    "\n",
    "    # Map a classifier name to a list of (<n_estimators>, <error rate>) pairs.\n",
    "    error_rate = OrderedDict((label, []) for label, _ in classifier_scenario)\n",
    "\n",
    "    # Range of `n_estimators` values to explore.\n",
    "    min_estimators = 1\n",
    "\n",
    "    for label, clf in classifier_scenario:\n",
    "        for i in range(min_estimators, max_estimators + 1):\n",
    "            clf.set_params(n_estimators = i)\n",
    "            clf.fit(train_samp, train_lab)\n",
    "\n",
    "            # Record the OOB error for each `n_estimators=i` setting.\n",
    "            oob_error = 1 - clf.oob_score_\n",
    "            error_rate[label].append((i, oob_error))\n",
    "\n",
    "    # Generate the \"OOB error rate\" vs. \"n_estimators\" plot.\n",
    "    for label, clf_err in error_rate.items():\n",
    "        xs, ys = zip(*clf_err)\n",
    "        plt.plot(xs, ys, label = label)\n",
    "        \n",
    "    # Plot and save output as figure\n",
    "    plt.xlim(min_estimators, max_estimators)\n",
    "    plt.xlabel(\"n_estimators\")\n",
    "    plt.ylabel(\"OOB error rate\")\n",
    "    plt.legend(loc = \"upper right\")\n",
    "    plt.yscale('log')    \n",
    "    plt.savefig(output_path, bbox_inches = 'tight')\n",
    "    plt.show()\n",
    "\n",
    "\n",
    "# List of training files to import. Each file should cover a small enough spatial area \n",
    "# so as to not slow dc.load function excessively (e.g. 100 x 100km max)\n",
    "train_shps = [\"raw_data/train/training_data_mangrove.shp\",\n",
    "              \"raw_data/train/training_data_mangrove1.shp\",\n",
    "              \"raw_data/train/training_data_mangrove2.shp\"]\n",
    "# train_shps = [\"raw_data/train/training_data_tasseledcap.shp\"]\n",
    "    \n",
    "# Classification output path\n",
    "classification_output = \"output_data/classification_dc_mangrove.tif\"\n",
    "# classification_output = \"output_data/classification_dc_tasseledcap.tif\"\n",
    "\n",
    "# Output class names\n",
    "classification_names = [\"mangrove\", \"other\"]\n",
    "# classification_names = [\"mangrove\", \"water\", \"veg\", \"other\"]\n",
    "# classification_names = [\"swamp\", \"escarpment\", \"plateau\", \"ephem_swamp\"]\n"
   ]
  },
  {
   "cell_type": "markdown",
   "metadata": {
    "extensions": {
     "jupyter_dashboards": {
      "version": 1,
      "views": {
       "grid_default": {
        "col": 0,
        "height": 5,
        "hidden": false,
        "row": 4,
        "width": 12
       },
       "report_default": {
        "hidden": false
       }
      }
     }
    }
   },
   "source": [
    "# Functions used to import training and analysis data\n",
    "Both of these functions import datacube data using a query, and return an xarray dataset with multiple bands/variables and 'geo_transform' and 'proj' attributes. \n",
    "This format is required as an input to both randomforest_train and randomforest_classify, and ensures that both training and analysis data are consistent."
   ]
  },
  {
   "cell_type": "code",
   "execution_count": 2,
   "metadata": {
    "extensions": {
     "jupyter_dashboards": {
      "version": 1,
      "views": {
       "grid_default": {
        "hidden": true
       },
       "report_default": {
        "hidden": true
       }
      }
     }
    }
   },
   "outputs": [],
   "source": [
    "def hltc_import(query):\n",
    "    \n",
    "    \"\"\"\n",
    "    Imports high and low composite data for a given spatial query, and\n",
    "    return an xarray dataset with 'geo_transform' and 'proj' attributes \n",
    "    \n",
    "    :attr query: spatial query for datacube.load()\n",
    "    :returns: xarray dataset with 'geo_transform' and 'proj' attributes\n",
    "    \"\"\"\n",
    "\n",
    "    # Import data\n",
    "    low_tide = dc.load(product = 'low_tide_comp_20p', **query)\n",
    "    high_tide = dc.load(product = 'high_tide_comp_20p', **query)\n",
    "\n",
    "    # Rename variables in each high/low composite so datasets can be merged\n",
    "    data_vars = list(low_tide.keys())[3:]  # select only data vars, not coords\n",
    "    low_tide.rename({var: \"lt_\" + var for var in data_vars}, inplace = True)\n",
    "    high_tide.rename({var: \"ht_\" + var for var in data_vars}, inplace = True)\n",
    "\n",
    "    # Combine into one dataset\n",
    "    output_xarray = xr.auto_combine([low_tide, high_tide]).isel(time = 0)\n",
    "    \n",
    "    # Set attributes   \n",
    "    output_xarray.attrs['proj'] = low_tide.geobox.crs.wkt\n",
    "    output_xarray.attrs['geo_transform'] = low_tide.geobox.transform.to_gdal()    \n",
    "    \n",
    "    return output_xarray\n",
    "\n",
    "\n",
    "def tc_import(query):\n",
    "    \n",
    "    '''\n",
    "    Wrapper around load_nbart and tasseled cap to return an xarray dataset with \n",
    "    'geo_transform' and 'proj' attributes\n",
    "    \n",
    "    :attr query: query for datacube call; for training, supply only\n",
    "    non-spatial queries as spatial are generated from training data\n",
    "    :returns: xarray dataset with 'geo_transform' and 'proj' attributes\n",
    "    '''\n",
    "    \n",
    "    # Import cleaned Landsat bands data\n",
    "    nbar_example = load_nbart('ls8', query)\n",
    "    \n",
    "    # Compute tasseled cap indices and take median of multiple timesteps\n",
    "    output_xarray = tasseled_cap(sensor_data = nbar_example, \n",
    "                                 sensor = 'ls8',\n",
    "                                 drop = True).median(\"time\", keep_attrs = True)\n",
    "    \n",
    "    return output_xarray        \n",
    "    "
   ]
  },
  {
   "cell_type": "markdown",
   "metadata": {
    "extensions": {
     "jupyter_dashboards": {
      "version": 1,
      "views": {
       "grid_default": {
        "col": 0,
        "height": 4,
        "hidden": false,
        "row": 9,
        "width": 12
       },
       "report_default": {
        "hidden": false
       }
      }
     }
    }
   },
   "source": [
    "# Import training data and fit model\n",
    "Uses randomforest_train to extract training data from potentially multiple training shapefiles, and returns a trained classifier (and optionally, training label and training sample arrays)"
   ]
  },
  {
   "cell_type": "code",
   "execution_count": 3,
   "metadata": {
    "extensions": {
     "jupyter_dashboards": {
      "version": 1,
      "views": {
       "grid_default": {
        "col": 0,
        "height": 14,
        "hidden": false,
        "row": 13,
        "width": 4
       },
       "report_default": {
        "hidden": false
       }
      }
     }
    }
   },
   "outputs": [
    {
     "name": "stdout",
     "output_type": "stream",
     "text": [
      "Importing training data from raw_data/train/training_data_mangrove.shp:\n",
      "{'x': (-97695.37617727809, -157527.5762163046), 'y': (-1295246.4245350992, -1347639.5474466463), 'crs': 'EPSG:3577'}\n",
      "Importing training data from raw_data/train/training_data_mangrove1.shp:\n",
      "{'x': (-250322.2628674942, -267715.4139100249), 'y': (-1572014.9681683218, -1589491.9822624666), 'crs': 'EPSG:3577'}\n",
      "Importing training data from raw_data/train/training_data_mangrove2.shp:\n",
      "{'x': (-218270.8137106544, -236105.05985552695), 'y': (-1631968.8744477245, -1644765.5913745423), 'crs': 'EPSG:3577'}\n",
      "\n",
      "Training random forest classifier...\n",
      "Model trained on 12 bands and 305 training samples\n"
     ]
    }
   ],
   "source": [
    "# Dict of classifier parameters\n",
    "classifier_params = {'n_jobs': -1,                                    \n",
    "                     'n_estimators': 100,\n",
    "                     'max_features': \"auto\",\n",
    "                     'min_samples_leaf': 2,\n",
    "                     'oob_score': True }\n",
    "\n",
    "# Optional time query parameters (used for temporal datasets)\n",
    "data_func_params = {}\n",
    "# data_func_params = {'time': ('2017-03-01', '2017-06-28')}\n",
    "\n",
    "# Extract training data for each training shapefile and train classifier\n",
    "classifier, _, _ = randomforest_train(train_shps = train_shps,\n",
    "                                      train_field = \"class\",\n",
    "                                      data_func = hltc_import, # tc_import, #   \n",
    "                                      data_func_params = data_func_params,\n",
    "                                      classifier_params = classifier_params,\n",
    "                                      train_reclass = {1:1, 2:2, 3:2, 4:2})\n"
   ]
  },
  {
   "cell_type": "markdown",
   "metadata": {
    "extensions": {
     "jupyter_dashboards": {
      "version": 1,
      "views": {
       "grid_default": {
        "col": 0,
        "height": 5,
        "hidden": false,
        "row": 27,
        "width": 12
       },
       "report_default": {
        "hidden": false
       }
      }
     }
    }
   },
   "source": [
    "# Import analysis data and classify\n",
    "Classifies and exports an analysis dataset using a previously trained random forest classifier, provided this dataset has the same number of bands/variables as the data used to train the classifier. Using the same data function (e.g. tc_import, hltc_import) used to train the classifier will ensure this is the case. By setting 'class_prob = True', can optionally export a geotiff of predicted class probabilities in addition to classification output."
   ]
  },
  {
   "cell_type": "code",
   "execution_count": 4,
   "metadata": {
    "extensions": {
     "jupyter_dashboards": {
      "version": 1,
      "views": {
       "grid_default": {
        "hidden": true
       },
       "report_default": {
        "hidden": true
       }
      }
     }
    }
   },
   "outputs": [
    {
     "name": "stdout",
     "output_type": "stream",
     "text": [
      "Data to classify:\n",
      "  Rows: 3201\n",
      "  Columns: 3200\n",
      "  Bands: 12\n",
      "\n",
      "Classification processing...\n",
      "  0 nodata cells removed\n",
      "  Classification exported\n",
      "\n",
      "Class probability processing...\n",
      "  Class probability exported\n"
     ]
    }
   ],
   "source": [
    "# classification_output = \"output_data/classification_dc_mangrove.tif\"\n",
    "\n",
    "# Set up analysis data query\n",
    "lat_point, lon_point, buffer = -12.4600563815, 130.916985762, 40000\n",
    "x, y = geometry.point(lon_point, lat_point, CRS('WGS84')).to_crs(CRS('EPSG:3577')).points[0]\n",
    "query = {'x': (x - buffer, x + buffer),\n",
    "         'y': (y - buffer, y + buffer),\n",
    "         # 'time': ('2017-03-01', '2017-06-28'),\n",
    "         'crs': 'EPSG:3577'}\n",
    "\n",
    "# Load data from datacube\n",
    "analysis_xarray = hltc_import(query)\n",
    "# analysis_xarray = tc_import(query)\n",
    "\n",
    "# Run classification and export to file   \n",
    "randomforest_classify(classifier = classifier,\n",
    "                      analysis_data = analysis_xarray,\n",
    "                      classification_output = classification_output,\n",
    "                      class_prob = True)\n"
   ]
  },
  {
   "cell_type": "markdown",
   "metadata": {
    "extensions": {
     "jupyter_dashboards": {
      "version": 1,
      "views": {
       "grid_default": {
        "col": 0,
        "height": 4,
        "hidden": false,
        "row": 32,
        "width": 12
       },
       "report_default": {
        "hidden": false
       }
      }
     }
    }
   },
   "source": [
    "# Feature/band/variable importance\n",
    "Extract classifier estimates of the relative importance of each band/variable for training the classifier. Useful for potentially selecting a subset of input bands/variables for model training/classification (i.e. optimising feature space)"
   ]
  },
  {
   "cell_type": "code",
   "execution_count": 5,
   "metadata": {
    "extensions": {
     "jupyter_dashboards": {
      "version": 1,
      "views": {
       "grid_default": {
        "hidden": true
       },
       "report_default": {
        "hidden": true
       }
      }
     }
    }
   },
   "outputs": [
    {
     "data": {
      "text/html": [
       "<div>\n",
       "<style scoped>\n",
       "    .dataframe tbody tr th:only-of-type {\n",
       "        vertical-align: middle;\n",
       "    }\n",
       "\n",
       "    .dataframe tbody tr th {\n",
       "        vertical-align: top;\n",
       "    }\n",
       "\n",
       "    .dataframe thead th {\n",
       "        text-align: right;\n",
       "    }\n",
       "</style>\n",
       "<table border=\"1\" class=\"dataframe\">\n",
       "  <thead>\n",
       "    <tr style=\"text-align: right;\">\n",
       "      <th></th>\n",
       "      <th>importance</th>\n",
       "    </tr>\n",
       "    <tr>\n",
       "      <th>variable</th>\n",
       "      <th></th>\n",
       "    </tr>\n",
       "  </thead>\n",
       "  <tbody>\n",
       "    <tr>\n",
       "      <th>lt_blue</th>\n",
       "      <td>0.069398</td>\n",
       "    </tr>\n",
       "    <tr>\n",
       "      <th>lt_green</th>\n",
       "      <td>0.047218</td>\n",
       "    </tr>\n",
       "    <tr>\n",
       "      <th>lt_red</th>\n",
       "      <td>0.058503</td>\n",
       "    </tr>\n",
       "    <tr>\n",
       "      <th>lt_nir</th>\n",
       "      <td>0.115357</td>\n",
       "    </tr>\n",
       "    <tr>\n",
       "      <th>lt_swir1</th>\n",
       "      <td>0.131670</td>\n",
       "    </tr>\n",
       "    <tr>\n",
       "      <th>lt_swir2</th>\n",
       "      <td>0.134297</td>\n",
       "    </tr>\n",
       "    <tr>\n",
       "      <th>ht_blue</th>\n",
       "      <td>0.060783</td>\n",
       "    </tr>\n",
       "    <tr>\n",
       "      <th>ht_green</th>\n",
       "      <td>0.034679</td>\n",
       "    </tr>\n",
       "    <tr>\n",
       "      <th>ht_red</th>\n",
       "      <td>0.036433</td>\n",
       "    </tr>\n",
       "    <tr>\n",
       "      <th>ht_nir</th>\n",
       "      <td>0.062737</td>\n",
       "    </tr>\n",
       "    <tr>\n",
       "      <th>ht_swir1</th>\n",
       "      <td>0.144455</td>\n",
       "    </tr>\n",
       "    <tr>\n",
       "      <th>ht_swir2</th>\n",
       "      <td>0.104470</td>\n",
       "    </tr>\n",
       "  </tbody>\n",
       "</table>\n",
       "</div>"
      ],
      "text/plain": [
       "          importance\n",
       "variable            \n",
       "lt_blue     0.069398\n",
       "lt_green    0.047218\n",
       "lt_red      0.058503\n",
       "lt_nir      0.115357\n",
       "lt_swir1    0.131670\n",
       "lt_swir2    0.134297\n",
       "ht_blue     0.060783\n",
       "ht_green    0.034679\n",
       "ht_red      0.036433\n",
       "ht_nir      0.062737\n",
       "ht_swir1    0.144455\n",
       "ht_swir2    0.104470"
      ]
     },
     "metadata": {},
     "output_type": "display_data"
    },
    {
     "data": {
      "image/png": "[encoded data removed]",
      "text/plain": [
       "<matplotlib.figure.Figure at 0x7f66504d3c88>"
      ]
     },
     "metadata": {},
     "output_type": "display_data"
    }
   ],
   "source": [
    "#  Extract feature importances from trained classifier\n",
    "importance = classifier.feature_importances_\n",
    "importance_df = pd.DataFrame({'variable': analysis_xarray.data_vars,\n",
    "                              'importance': importance})\n",
    "importance_df.set_index(\"variable\", inplace = True)\n",
    "importance_df.plot.bar(title = \"Variable importance (global)\")\n",
    "display(importance_df)\n"
   ]
  },
  {
   "cell_type": "markdown",
   "metadata": {
    "extensions": {
     "jupyter_dashboards": {
      "version": 1,
      "views": {
       "grid_default": {
        "col": 0,
        "height": 4,
        "hidden": false,
        "row": 36,
        "width": 12
       },
       "report_default": {
        "hidden": false
       }
      }
     }
    }
   },
   "source": [
    "# Export tree diagrams\n",
    "Export .png plots of each decision tree in the random forest ensemble. Useful for inspecting the splits used by the classifier to classify the data."
   ]
  },
  {
   "cell_type": "code",
   "execution_count": 6,
   "metadata": {
    "extensions": {
     "jupyter_dashboards": {
      "version": 1,
      "views": {
       "grid_default": {
        "hidden": true
       },
       "report_default": {
        "hidden": true
       }
      }
     }
    }
   },
   "outputs": [],
   "source": [
    "# Plot output random forest trees to file\n",
    "for n, tree_in_forest in enumerate(classifier.estimators_):\n",
    "\n",
    "    # Create graph and save to dot file\n",
    "    export_graphviz(tree_in_forest,\n",
    "                    out_file = \"figures/tree_graphs/tree.dot\",\n",
    "                    feature_names = list(analysis_xarray.data_vars),\n",
    "                    class_names = classification_names,\n",
    "                    filled = True,\n",
    "                    rounded = True)\n",
    "\n",
    "    # Plot as figure\n",
    "    os.system('dot -Tpng figures/tree_graphs/tree.dot -o ' + \\\n",
    "              'figures/tree_graphs/tree' + str(n + 1) + '.png')    \n",
    "    "
   ]
  },
  {
   "cell_type": "markdown",
   "metadata": {
    "extensions": {
     "jupyter_dashboards": {
      "version": 1,
      "views": {
       "grid_default": {
        "col": 0,
        "height": 4,
        "hidden": false,
        "row": 40,
        "width": 12
       },
       "report_default": {
        "hidden": false
       }
      }
     }
    },
    "scrolled": false
   },
   "source": [
    "# Plot performance of model by parameter values\n",
    "Random forest classifiers contain many modifiable parameters that can strongly affect the performance of the model. This section evaluates the effect of these parameters by plotting out-of-bag (OOB) error for a set of classifier parameter scenarios, and exports the resulting plots to file."
   ]
  },
  {
   "cell_type": "code",
   "execution_count": 7,
   "metadata": {
    "extensions": {
     "jupyter_dashboards": {
      "version": 1,
      "views": {
       "grid_default": {
        "hidden": true
       },
       "report_default": {
        "hidden": true
       }
      }
     }
    },
    "scrolled": false
   },
   "outputs": [
    {
     "name": "stdout",
     "output_type": "stream",
     "text": [
      "Importing training data from raw_data/train/training_data_mangrove.shp:\n",
      "{'x': (-97695.37617727809, -157527.5762163046), 'y': (-1295246.4245350992, -1347639.5474466463), 'crs': 'EPSG:3577'}\n",
      "Importing training data from raw_data/train/training_data_mangrove1.shp:\n",
      "{'x': (-250322.2628674942, -267715.4139100249), 'y': (-1572014.9681683218, -1589491.9822624666), 'crs': 'EPSG:3577'}\n",
      "Importing training data from raw_data/train/training_data_mangrove2.shp:\n",
      "{'x': (-218270.8137106544, -236105.05985552695), 'y': (-1631968.8744477245, -1644765.5913745423), 'crs': 'EPSG:3577'}\n",
      "\n",
      "Training random forest classifier...\n",
      "Model trained on 12 bands and 305 training samples\n"
     ]
    },
    {
     "data": {
      "image/png": "[encoded data removed]",
      "text/plain": [
       "<matplotlib.figure.Figure at 0x7f65f0eff2b0>"
      ]
     },
     "metadata": {},
     "output_type": "display_data"
    },
    {
     "data": {
      "image/png": "[encoded data removed]",
      "text/plain": [
       "<matplotlib.figure.Figure at 0x7f66504ea1d0>"
      ]
     },
     "metadata": {},
     "output_type": "display_data"
    },
    {
     "data": {
      "image/png": "[encoded data removed]",
      "text/plain": [
       "<matplotlib.figure.Figure at 0x7f65f0b03048>"
      ]
     },
     "metadata": {},
     "output_type": "display_data"
    },
    {
     "data": {
      "image/png": "[encoded data removed]",
      "text/plain": [
       "<matplotlib.figure.Figure at 0x7f65f0817668>"
      ]
     },
     "metadata": {},
     "output_type": "display_data"
    },
    {
     "data": {
      "image/png": "[encoded data removed]",
      "text/plain": [
       "<matplotlib.figure.Figure at 0x7f65f07144e0>"
      ]
     },
     "metadata": {},
     "output_type": "display_data"
    }
   ],
   "source": [
    "# NOTE: Setting the `warm_start` construction parameter to `True` disables\n",
    "# support for parallelized ensembles but is necessary for tracking the OOB\n",
    "# error trajectory during training.\n",
    "\n",
    "# Extract training data\n",
    "_, train_lab, train_samp = randomforest_train(train_shps = train_shps,\n",
    "                                              train_field = \"class\",\n",
    "                                              data_func = hltc_import, #tc_import,\n",
    "                                              data_func_params = {},\n",
    "                                              classifier_params = classifier_params,\n",
    "                                              train_reclass = {1:1, 2:2, 3:2, 4:2})\n",
    "\n",
    "# Test effect of max features\n",
    "classifier_scenario1 = [(\"max_features = 'sqrt'\",\n",
    "                        RandomForestClassifier(warm_start = True,\n",
    "                                               oob_score = True,\n",
    "                                               max_features = \"sqrt\")),\n",
    "                       (\"max_features = 'log2'\",\n",
    "                        RandomForestClassifier(warm_start = True, \n",
    "                                               oob_score = True,\n",
    "                                               max_features = \"log2\")),\n",
    "                        \n",
    "                       (\"max_features = '0.1'\",\n",
    "                        RandomForestClassifier(warm_start = True, \n",
    "                                               max_features = 0.1,\n",
    "                                               oob_score = True)),\n",
    "                        \n",
    "                       (\"max_features = '0.5'\",\n",
    "                        RandomForestClassifier(warm_start = True, \n",
    "                                               max_features = 0.5,\n",
    "                                               oob_score = True)),\n",
    "                       (\"max_features = None\",\n",
    "                        RandomForestClassifier(warm_start = True,\n",
    "                                               max_features = None,\n",
    "                                               oob_score = True))]\n",
    "\n",
    "# Test effect of minimum samples per leaf\n",
    "classifier_scenario2 = [(\"Leaf = 1\",\n",
    "                         RandomForestClassifier(warm_start = True,\n",
    "                                                min_samples_leaf = 1,\n",
    "                                                oob_score = True)),                       \n",
    "                       (\"Leaf = 10\",\n",
    "                        RandomForestClassifier(warm_start = True,\n",
    "                                               min_samples_leaf = 10,\n",
    "                                               oob_score = True)),                       \n",
    "                       (\"Leaf = 20\",\n",
    "                        RandomForestClassifier(warm_start = True, \n",
    "                                               min_samples_leaf = 20,\n",
    "                                               oob_score = True)),\n",
    "                       (\"Leaf = 40\",\n",
    "                        RandomForestClassifier(warm_start = True, \n",
    "                                               min_samples_leaf = 40,\n",
    "                                               oob_score = True))]\n",
    "\n",
    "# Test effect of max depth\n",
    "classifier_scenario3 = [(\"Max depth = 1\",\n",
    "                         RandomForestClassifier(warm_start = True,\n",
    "                                                max_depth = 1,\n",
    "                                                oob_score = True)),                       \n",
    "                       (\"Max depth = 2\",\n",
    "                        RandomForestClassifier(warm_start = True,\n",
    "                                               max_depth = 2,\n",
    "                                               oob_score = True)),                       \n",
    "                       (\"Max depth = 5\",\n",
    "                        RandomForestClassifier(warm_start = True, \n",
    "                                               max_depth = 5,\n",
    "                                               oob_score = True)),                       \n",
    "                       (\"Max depth = 10\",\n",
    "                        RandomForestClassifier(warm_start = True, \n",
    "                                               max_depth = 10,\n",
    "                                               oob_score = True))]\n",
    "\n",
    "# Test effect of max leaf node\n",
    "classifier_scenario4 = [(\"Max leaf node = 5\",\n",
    "                         RandomForestClassifier(warm_start = True,\n",
    "                                                max_leaf_nodes = 5,\n",
    "                                                oob_score = True)),                       \n",
    "                       (\"Max leaf node = 10\",\n",
    "                        RandomForestClassifier(warm_start = True,\n",
    "                                               max_leaf_nodes = 10,\n",
    "                                               oob_score = True)),                       \n",
    "                       (\"Max leaf node = 20\",\n",
    "                        RandomForestClassifier(warm_start = True, \n",
    "                                               max_leaf_nodes = 20,\n",
    "                                               oob_score = True)),                       \n",
    "                       (\"Max leaf node = 40\",\n",
    "                        RandomForestClassifier(warm_start = True, \n",
    "                                               max_leaf_nodes = 40,\n",
    "                                               oob_score = True))]\n",
    "\n",
    "# Test effect of max leaf node\n",
    "classifier_scenario5 = [(\"Min samples split = 5\",\n",
    "                         RandomForestClassifier(warm_start = True,\n",
    "                                                min_samples_split = 5,\n",
    "                                                oob_score = True)),                       \n",
    "                       (\"Min samples split = 10\",\n",
    "                        RandomForestClassifier(warm_start = True,\n",
    "                                               min_samples_split = 10,\n",
    "                                               oob_score = True)),                       \n",
    "                       (\"Min samples split = 20\",\n",
    "                        RandomForestClassifier(warm_start = True, \n",
    "                                               min_samples_split = 20,\n",
    "                                               oob_score = True)),                       \n",
    "                       (\"Min samples split = 40\",\n",
    "                        RandomForestClassifier(warm_start = True, \n",
    "                                               min_samples_split = 40,\n",
    "                                               oob_score = True))]\n",
    "\n",
    "# Produce figures and export plots for each set of classification scenarios\n",
    "for i, classifier_scenario in enumerate([classifier_scenario1, \n",
    "                                         classifier_scenario2, \n",
    "                                         classifier_scenario3,\n",
    "                                         classifier_scenario4,\n",
    "                                         classifier_scenario5]):\n",
    "    \n",
    "    # Plot OOB error by classifier scenario\n",
    "    randomforest_eval(training_labels = train_lab, \n",
    "                      training_samples = train_samp, \n",
    "                      classifier_scenario = classifier_scenario,\n",
    "                      output_path = \"figures/random_forest_params_{}.png\".format(i + 1),\n",
    "                      max_estimators = 50)\n"
   ]
  },
  {
   "cell_type": "markdown",
   "metadata": {
    "extensions": {
     "jupyter_dashboards": {
      "version": 1,
      "views": {
       "grid_default": {
        "col": 0,
        "height": 5,
        "hidden": false,
        "row": 44,
        "width": 12
       },
       "report_default": {
        "hidden": false
       }
      }
     }
    }
   },
   "source": [
    "# Visualise random forest structure\n",
    "Code to visualise internal structure of ensemble forest using histogram of leaf depths and number of samples.\n",
    "\n",
    "Source: https://github.com/aysent/random-forest-leaf-visualization"
   ]
  },
  {
   "cell_type": "code",
   "execution_count": 8,
   "metadata": {
    "extensions": {
     "jupyter_dashboards": {
      "version": 1,
      "views": {
       "grid_default": {
        "hidden": true
       },
       "report_default": {
        "hidden": true
       }
      }
     }
    }
   },
   "outputs": [
    {
     "data": {
      "image/png": "[encoded data removed]",
      "text/plain": [
       "<matplotlib.figure.Figure at 0x7f65f04abfd0>"
      ]
     },
     "metadata": {},
     "output_type": "display_data"
    }
   ],
   "source": [
    "def leaf_depths(tree, node_id = 0):\n",
    "    \n",
    "     \"\"\"\n",
    "     tree.children_left and tree.children_right store ids\n",
    "     of left and right chidren of a given node\n",
    "     \"\"\"\n",
    "     left_child = tree.children_left[node_id]\n",
    "     right_child = tree.children_right[node_id]\n",
    "\n",
    "     \"\"\"\n",
    "     If a given node is terminal, \n",
    "     both left and right children are set to _tree.TREE_LEAF\n",
    "     \"\"\"\n",
    "     if left_child == _tree.TREE_LEAF:\n",
    "         \n",
    "         '''\n",
    "         Set depth of terminal nodes to 0\n",
    "         '''\n",
    "         depths = np.array([0])\n",
    "\n",
    "     else:\n",
    "         \n",
    "         \"\"\"\n",
    "         Get depths of left and right children and\n",
    "         increment them by 1\n",
    "         \"\"\"\n",
    "         left_depths = leaf_depths(tree, left_child) + 1\n",
    "         right_depths = leaf_depths(tree, right_child) + 1\n",
    " \n",
    "         depths = np.append(left_depths, right_depths)\n",
    " \n",
    "     return depths\n",
    "\n",
    "\n",
    "def leaf_samples(tree, node_id = 0):\n",
    "    \n",
    "     left_child = tree.children_left[node_id]\n",
    "     right_child = tree.children_right[node_id]\n",
    "\n",
    "     if left_child == _tree.TREE_LEAF:\n",
    "        \n",
    "         samples = np.array([tree.n_node_samples[node_id]])\n",
    "\n",
    "     else:\n",
    "        \n",
    "         left_samples = leaf_samples(tree, left_child)\n",
    "         right_samples = leaf_samples(tree, right_child)\n",
    "\n",
    "         samples = np.append(left_samples, right_samples)\n",
    "\n",
    "     return samples\n",
    "\n",
    "\n",
    "def draw_ensemble(ensemble):\n",
    "\n",
    "     plt.figure(figsize=(8,8))\n",
    "     plt.subplot(211)\n",
    "\n",
    "     depths_all = np.array([], dtype=int)\n",
    "\n",
    "     for x in ensemble.estimators_:\n",
    "         tree = x.tree_\n",
    "         depths = leaf_depths(tree)\n",
    "         depths_all = np.append(depths_all, depths)\n",
    "         plt.hist(depths, histtype='step', color='#ddaaff', \n",
    "                  bins=range(min(depths), max(depths)+1))\n",
    "\n",
    "     plt.hist(depths_all, histtype='step', color='#9933ff', \n",
    "              bins=range(min(depths_all), max(depths_all)+1), \n",
    "              weights=np.ones(len(depths_all))/len(ensemble.estimators_), \n",
    "              linewidth=2)\n",
    "     plt.xlabel(\"Depth of leaf nodes\")\n",
    "    \n",
    "     samples_all = np.array([], dtype=int)\n",
    "    \n",
    "     plt.subplot(212)\n",
    "    \n",
    "     for x in ensemble.estimators_:\n",
    "         tree = x.tree_\n",
    "         samples = leaf_samples(tree)\n",
    "         samples_all = np.append(samples_all, samples)\n",
    "         plt.hist(samples, histtype='step', color='#aaddff', \n",
    "                  bins=range(min(samples), max(samples)+1))\n",
    "    \n",
    "     plt.hist(samples_all, histtype='step', color='#3399ff', \n",
    "              bins=range(min(samples_all), max(samples_all)+1), \n",
    "              weights=np.ones(len(samples_all))/len(ensemble.estimators_), \n",
    "              linewidth=2)\n",
    "     plt.xlabel(\"Number of samples in leaf nodes\")\n",
    "    \n",
    "     plt.show()\n",
    "        \n",
    "# Plot depth of leaf nodes and number of samples in leaf nodes        \n",
    "draw_ensemble(classifier)"
   ]
  },
  {
   "cell_type": "markdown",
   "metadata": {
    "extensions": {
     "jupyter_dashboards": {
      "version": 1,
      "views": {
       "grid_default": {
        "col": 0,
        "height": 4,
        "hidden": false,
        "row": 49,
        "width": 12
       },
       "report_default": {
        "hidden": false
       }
      }
     }
    }
   },
   "source": [
    "# Classification statistics (TBA)\n",
    "Not currently working; will need method for incorperating validation data"
   ]
  },
  {
   "cell_type": "code",
   "execution_count": 9,
   "metadata": {
    "extensions": {
     "jupyter_dashboards": {
      "version": 1,
      "views": {
       "grid_default": {
        "hidden": true
       },
       "report_default": {
        "hidden": true
       }
      }
     }
    }
   },
   "outputs": [],
   "source": [
    "# # Verification data\n",
    "# shapefiles = glob.glob(validation_data_path + \"/*.shp\")\n",
    "# classes = [i.split(\"/\")[2][0:1] for i in shapefiles]\n",
    "# verification_pixels = vectors_to_raster(shapefiles, rows, cols, geo_transform, proj)\n",
    "# for_verification = np.nonzero(verification_pixels)\n",
    "# verification_labels = verification_pixels[for_verification]\n",
    "# predicted_labels = classification[for_verification]\n",
    "\n",
    "# # Confusion matrix\n",
    "# print(\"Confussion matrix:\\n%s\" %\n",
    "#       metrics.confusion_matrix(verification_labels, predicted_labels))\n",
    "# target_names = ['Class %s' % s for s in classes]\n",
    "\n",
    "# # Per class report\n",
    "# print(\"Classification report:\\n%s\" %\n",
    "#       metrics.classification_report(verification_labels, predicted_labels,\n",
    "#                                     target_names=target_names))\n",
    "\n",
    "# # Overall classification accuracy\n",
    "# print(\"Classification accuracy: %f\" %\n",
    "#       metrics.accuracy_score(verification_labels, predicted_labels))"
   ]
  }
 ],
 "metadata": {
  "extensions": {
   "jupyter_dashboards": {
    "activeView": "report_default",
    "version": 1,
    "views": {
     "grid_default": {
      "cellMargin": 10,
      "defaultCellHeight": 20,
      "maxColumns": 12,
      "name": "grid",
      "type": "grid"
     },
     "report_default": {
      "name": "report",
      "type": "report"
     }
    }
   }
  },
  "kernelspec": {
   "display_name": "Python 3",
   "language": "python",
   "name": "python3"
  },
  "language_info": {
   "codemirror_mode": {
    "name": "ipython",
    "version": 3
   },
   "file_extension": ".py",
   "mimetype": "text/x-python",
   "name": "python",
   "nbconvert_exporter": "python",
   "pygments_lexer": "ipython3",
   "version": "3.6.3"
  },
  "toc": {
   "nav_menu": {},
   "number_sections": true,
   "sideBar": true,
   "skip_h1_title": false,
   "toc_cell": false,
   "toc_position": {},
   "toc_section_display": "block",
   "toc_window_display": false
  }
 },
 "nbformat": 4,
 "nbformat_minor": 2
}
